{
 "cells": [
  {
   "cell_type": "markdown",
   "metadata": {},
   "source": [
    "# ResNet18-Noah"
   ]
  },
  {
   "cell_type": "code",
   "execution_count": 2,
   "metadata": {
    "ExecuteTime": {
     "end_time": "2023-02-06T06:33:18.317556Z",
     "start_time": "2023-02-06T06:33:17.773571Z"
    }
   },
   "outputs": [
    {
     "name": "stdout",
     "output_type": "stream",
     "text": [
      "Collecting torchsummary\n",
      "  Using cached torchsummary-1.5.1-py3-none-any.whl (2.8 kB)\n",
      "Installing collected packages: torchsummary\n",
      "Successfully installed torchsummary-1.5.1\n"
     ]
    }
   ],
   "source": [
    "import torch\n",
    "!pip install torchsummary\n",
    "from torchsummary import summary\n",
    "from torch import nn\n",
    "import torch\n",
    "from torch.utils.data import DataLoader\n",
    "from torchvision import datasets, transforms\n",
    "from torchvision.transforms import ToTensor\n",
    "import torch.nn.functional as F"
   ]
  },
  {
   "cell_type": "markdown",
   "metadata": {},
   "source": [
    "## Preparing train/test data and dataloader"
   ]
  },
  {
   "cell_type": "code",
   "execution_count": 6,
   "metadata": {
    "collapsed": true
   },
   "outputs": [
    {
     "name": "stdout",
     "output_type": "stream",
     "text": [
      "Train data:\n",
      "Dataset ImageFolder\n",
      "    Number of datapoints: 12376\n",
      "    Root location: /home/jovyan/aa_t6-adl-finalproj/frames/train\n",
      "    StandardTransform\n",
      "Transform: Compose(\n",
      "               Resize(size=(128, 128), interpolation=PIL.Image.BILINEAR)\n",
      "               RandomHorizontalFlip(p=0.2)\n",
      "               ToTensor()\n",
      "           )\n",
      "Test data:\n",
      "Dataset ImageFolder\n",
      "    Number of datapoints: 102\n",
      "    Root location: /home/jovyan/aa_t6-adl-finalproj/frames/test\n",
      "    StandardTransform\n",
      "Transform: Compose(\n",
      "               Resize(size=(128, 128), interpolation=PIL.Image.BILINEAR)\n",
      "               ToTensor()\n",
      "           )\n"
     ]
    }
   ],
   "source": [
    "train_transform = transforms.Compose([\n",
    "    transforms.Resize(size=(128, 128)),\n",
    "    transforms.RandomHorizontalFlip(p=0.2),\n",
    "    transforms.ToTensor()  \n",
    "])\n",
    "\n",
    "test_transform = transforms.Compose([\n",
    "    transforms.Resize(size=(128,128)),\n",
    "    transforms.ToTensor(),\n",
    "    # normalize,\n",
    "])\n",
    "\n",
    "\n",
    "training_data = datasets.ImageFolder('/home/jovyan/aa_t6-adl-finalproj/frames/train', \n",
    "                                     transform = train_transform, \n",
    "                                     target_transform=None)\n",
    "\n",
    "test_data = datasets.ImageFolder('/home/jovyan/aa_t6-adl-finalproj/frames/test', \n",
    "                                 transform = test_transform)\n",
    "\n",
    "print(f\"Train data:\\n{training_data}\\nTest data:\\n{test_data}\")\n"
   ]
  },
  {
   "cell_type": "code",
   "execution_count": 7,
   "metadata": {
    "scrolled": true
   },
   "outputs": [
    {
     "name": "stdout",
     "output_type": "stream",
     "text": [
      "Shape of X [N, C, H, W]: torch.Size([32, 3, 128, 128])\n",
      "Shape of y: torch.Size([32]) torch.int64\n"
     ]
    }
   ],
   "source": [
    "batch_size = 32\n",
    "\n",
    "# Create data loaders.\n",
    "'''train_dataloader = DataLoader(training_data, \n",
    "                              batch_size=batch_size)\n",
    "test_dataloader = DataLoader(test_data, \n",
    "                             batch_size=batch_size)'''\n",
    "\n",
    "                                                            # with new params\n",
    "train_dataloader = DataLoader(training_data, \n",
    "                              batch_size=batch_size, \n",
    "                              shuffle=False, \n",
    "                              num_workers=2,\n",
    "                              collate_fn=None,\n",
    "                              pin_memory=True)\n",
    "\n",
    "test_dataloader = DataLoader(test_data, \n",
    "                              batch_size=batch_size, \n",
    "                              shuffle=False, \n",
    "                              num_workers=2,\n",
    "                              collate_fn=None,\n",
    "                              pin_memory=True)\n",
    "\n",
    "for X, y in test_dataloader:\n",
    "    print(f\"Shape of X [N, C, H, W]: {X.shape}\")\n",
    "    print(f\"Shape of y: {y.shape} {y.dtype}\")\n",
    "    break"
   ]
  },
  {
   "cell_type": "markdown",
   "metadata": {},
   "source": [
    "## ResNet"
   ]
  },
  {
   "cell_type": "code",
   "execution_count": 8,
   "metadata": {
    "ExecuteTime": {
     "end_time": "2023-02-06T06:33:18.322514Z",
     "start_time": "2023-02-06T06:33:18.318794Z"
    }
   },
   "outputs": [],
   "source": [
    "class ResBlock(nn.Module):\n",
    "    def __init__(self, in_channels, out_channels, downsample):\n",
    "        super().__init__()\n",
    "        if downsample:\n",
    "            self.conv1 = nn.Conv2d(\n",
    "                in_channels, out_channels, kernel_size=3, stride=2, padding=1)\n",
    "            self.shortcut = nn.Sequential(\n",
    "                nn.Conv2d(in_channels, out_channels, kernel_size=1, stride=2),\n",
    "                nn.BatchNorm2d(out_channels)\n",
    "            )\n",
    "        else:\n",
    "            self.conv1 = nn.Conv2d(\n",
    "                in_channels, out_channels, kernel_size=3, stride=1, padding=1)\n",
    "            self.shortcut = nn.Sequential()\n",
    "\n",
    "        self.conv2 = nn.Conv2d(out_channels, out_channels,\n",
    "                               kernel_size=3, stride=1, padding=1)\n",
    "        self.bn1 = nn.BatchNorm2d(out_channels)\n",
    "        self.bn2 = nn.BatchNorm2d(out_channels)\n",
    "    \n",
    "    def forward(self, input):\n",
    "        shortcut = self.shortcut(input)\n",
    "        input = nn.ReLU()(self.bn1(self.conv1(input)))\n",
    "        input = nn.ReLU()(self.bn2(self.conv2(input)))\n",
    "        input = input + shortcut\n",
    "        return nn.ReLU()(input)"
   ]
  },
  {
   "cell_type": "code",
   "execution_count": 9,
   "metadata": {
    "ExecuteTime": {
     "end_time": "2023-02-06T06:33:18.635106Z",
     "start_time": "2023-02-06T06:33:18.631001Z"
    }
   },
   "outputs": [],
   "source": [
    "class ResBottleneckBlock(nn.Module):\n",
    "    def __init__(self, in_channels, out_channels, downsample):\n",
    "        super().__init__()\n",
    "        self.downsample = downsample\n",
    "        self.conv1 = nn.Conv2d(in_channels, out_channels//4,\n",
    "                               kernel_size=1, stride=1)\n",
    "        self.conv2 = nn.Conv2d(\n",
    "            out_channels//4, out_channels//4, kernel_size=3, stride=2 if downsample else 1, padding=1)\n",
    "        self.conv3 = nn.Conv2d(out_channels//4, out_channels, kernel_size=1, stride=1)\n",
    "\n",
    "        if self.downsample or in_channels != out_channels:\n",
    "            self.shortcut = nn.Sequential(\n",
    "                nn.Conv2d(in_channels, out_channels, kernel_size=1,\n",
    "                          stride=2 if self.downsample else 1),\n",
    "                nn.BatchNorm2d(out_channels)\n",
    "            )\n",
    "        else:\n",
    "            self.shortcut = nn.Sequential()\n",
    "\n",
    "        self.bn1 = nn.BatchNorm2d(out_channels//4)\n",
    "        self.bn2 = nn.BatchNorm2d(out_channels//4)\n",
    "        self.bn3 = nn.BatchNorm2d(out_channels)\n",
    "\n",
    "    def forward(self, input):\n",
    "        shortcut = self.shortcut(input)\n",
    "        input = nn.ReLU()(self.bn1(self.conv1(input)))\n",
    "        input = nn.ReLU()(self.bn2(self.conv2(input)))\n",
    "        input = nn.ReLU()(self.bn3(self.conv3(input)))\n",
    "        input = input + shortcut\n",
    "        return nn.ReLU()(input)"
   ]
  },
  {
   "cell_type": "code",
   "execution_count": 10,
   "metadata": {
    "ExecuteTime": {
     "end_time": "2023-02-06T06:33:19.296851Z",
     "start_time": "2023-02-06T06:33:19.290696Z"
    }
   },
   "outputs": [],
   "source": [
    "class ResNet(nn.Module):\n",
    "    def __init__(self, in_channels, resblock, repeat, useBottleneck=False, outputs=1000):\n",
    "        super().__init__()\n",
    "        self.layer0 = nn.Sequential(\n",
    "            nn.Conv2d(in_channels, 64, kernel_size=7, stride=2, padding=3),\n",
    "            nn.MaxPool2d(kernel_size=3, stride=2, padding=1),\n",
    "            nn.BatchNorm2d(64),\n",
    "            nn.ReLU()\n",
    "        )\n",
    "\n",
    "        if useBottleneck:\n",
    "            filters = [64, 256, 512, 1024, 2048]\n",
    "        else:\n",
    "            filters = [64, 64, 128, 256, 512]\n",
    "\n",
    "        self.layer1 = nn.Sequential()\n",
    "        self.layer1.add_module('conv2_1', resblock(filters[0], filters[1], downsample=False))\n",
    "        for i in range(1, repeat[0]):\n",
    "                self.layer1.add_module('conv2_%d'%(i+1,), resblock(filters[1], filters[1], downsample=False))\n",
    "\n",
    "        self.layer2 = nn.Sequential()\n",
    "        self.layer2.add_module('conv3_1', resblock(filters[1], filters[2], downsample=True))\n",
    "        for i in range(1, repeat[1]):\n",
    "                self.layer2.add_module('conv3_%d' % (\n",
    "                    i+1,), resblock(filters[2], filters[2], downsample=False))\n",
    "\n",
    "        self.layer3 = nn.Sequential()\n",
    "        self.layer3.add_module('conv4_1', resblock(filters[2], filters[3], downsample=True))\n",
    "        for i in range(1, repeat[2]):\n",
    "            self.layer3.add_module('conv2_%d' % (\n",
    "                i+1,), resblock(filters[3], filters[3], downsample=False))\n",
    "\n",
    "        self.layer4 = nn.Sequential()\n",
    "        self.layer4.add_module('conv5_1', resblock(filters[3], filters[4], downsample=True))\n",
    "        for i in range(1, repeat[3]):\n",
    "            self.layer4.add_module('conv3_%d'%(i+1,),resblock(filters[4], filters[4], downsample=False))\n",
    "\n",
    "        self.gap = torch.nn.AdaptiveAvgPool2d(1)\n",
    "        self.fc = torch.nn.Linear(filters[4], outputs)\n",
    "        \n",
    "    def forward(self, input):\n",
    "        input = self.layer0(input)\n",
    "        input = self.layer1(input)\n",
    "        input = self.layer2(input)\n",
    "        input = self.layer3(input)\n",
    "        input = self.layer4(input)\n",
    "        input = self.gap(input)\n",
    "        # torch.flatten()\n",
    "        # https://stackoverflow.com/questions/60115633/pytorch-flatten-doesnt-maintain-batch-size\n",
    "        input = torch.flatten(input, start_dim=1)\n",
    "        input = self.fc(input)\n",
    "\n",
    "        return input"
   ]
  },
  {
   "cell_type": "code",
   "execution_count": 11,
   "metadata": {
    "ExecuteTime": {
     "end_time": "2023-02-06T06:33:25.335310Z",
     "start_time": "2023-02-06T06:33:19.958393Z"
    },
    "scrolled": true
   },
   "outputs": [
    {
     "name": "stdout",
     "output_type": "stream",
     "text": [
      "----------------------------------------------------------------\n",
      "        Layer (type)               Output Shape         Param #\n",
      "================================================================\n",
      "            Conv2d-1         [-1, 64, 112, 112]           9,472\n",
      "         MaxPool2d-2           [-1, 64, 56, 56]               0\n",
      "       BatchNorm2d-3           [-1, 64, 56, 56]             128\n",
      "              ReLU-4           [-1, 64, 56, 56]               0\n",
      "            Conv2d-5           [-1, 64, 56, 56]          36,928\n",
      "       BatchNorm2d-6           [-1, 64, 56, 56]             128\n",
      "            Conv2d-7           [-1, 64, 56, 56]          36,928\n",
      "       BatchNorm2d-8           [-1, 64, 56, 56]             128\n",
      "          ResBlock-9           [-1, 64, 56, 56]               0\n",
      "           Conv2d-10           [-1, 64, 56, 56]          36,928\n",
      "      BatchNorm2d-11           [-1, 64, 56, 56]             128\n",
      "           Conv2d-12           [-1, 64, 56, 56]          36,928\n",
      "      BatchNorm2d-13           [-1, 64, 56, 56]             128\n",
      "         ResBlock-14           [-1, 64, 56, 56]               0\n",
      "           Conv2d-15          [-1, 128, 28, 28]           8,320\n",
      "      BatchNorm2d-16          [-1, 128, 28, 28]             256\n",
      "           Conv2d-17          [-1, 128, 28, 28]          73,856\n",
      "      BatchNorm2d-18          [-1, 128, 28, 28]             256\n",
      "           Conv2d-19          [-1, 128, 28, 28]         147,584\n",
      "      BatchNorm2d-20          [-1, 128, 28, 28]             256\n",
      "         ResBlock-21          [-1, 128, 28, 28]               0\n",
      "           Conv2d-22          [-1, 128, 28, 28]         147,584\n",
      "      BatchNorm2d-23          [-1, 128, 28, 28]             256\n",
      "           Conv2d-24          [-1, 128, 28, 28]         147,584\n",
      "      BatchNorm2d-25          [-1, 128, 28, 28]             256\n",
      "         ResBlock-26          [-1, 128, 28, 28]               0\n",
      "           Conv2d-27          [-1, 256, 14, 14]          33,024\n",
      "      BatchNorm2d-28          [-1, 256, 14, 14]             512\n",
      "           Conv2d-29          [-1, 256, 14, 14]         295,168\n",
      "      BatchNorm2d-30          [-1, 256, 14, 14]             512\n",
      "           Conv2d-31          [-1, 256, 14, 14]         590,080\n",
      "      BatchNorm2d-32          [-1, 256, 14, 14]             512\n",
      "         ResBlock-33          [-1, 256, 14, 14]               0\n",
      "           Conv2d-34          [-1, 256, 14, 14]         590,080\n",
      "      BatchNorm2d-35          [-1, 256, 14, 14]             512\n",
      "           Conv2d-36          [-1, 256, 14, 14]         590,080\n",
      "      BatchNorm2d-37          [-1, 256, 14, 14]             512\n",
      "         ResBlock-38          [-1, 256, 14, 14]               0\n",
      "           Conv2d-39            [-1, 512, 7, 7]         131,584\n",
      "      BatchNorm2d-40            [-1, 512, 7, 7]           1,024\n",
      "           Conv2d-41            [-1, 512, 7, 7]       1,180,160\n",
      "      BatchNorm2d-42            [-1, 512, 7, 7]           1,024\n",
      "           Conv2d-43            [-1, 512, 7, 7]       2,359,808\n",
      "      BatchNorm2d-44            [-1, 512, 7, 7]           1,024\n",
      "         ResBlock-45            [-1, 512, 7, 7]               0\n",
      "           Conv2d-46            [-1, 512, 7, 7]       2,359,808\n",
      "      BatchNorm2d-47            [-1, 512, 7, 7]           1,024\n",
      "           Conv2d-48            [-1, 512, 7, 7]       2,359,808\n",
      "      BatchNorm2d-49            [-1, 512, 7, 7]           1,024\n",
      "         ResBlock-50            [-1, 512, 7, 7]               0\n",
      "AdaptiveAvgPool2d-51            [-1, 512, 1, 1]               0\n",
      "           Linear-52                 [-1, 1000]         513,000\n",
      "================================================================\n",
      "Total params: 11,694,312\n",
      "Trainable params: 11,694,312\n",
      "Non-trainable params: 0\n",
      "----------------------------------------------------------------\n",
      "Input size (MB): 0.57\n",
      "Forward/backward pass size (MB): 42.12\n",
      "Params size (MB): 44.61\n",
      "Estimated Total Size (MB): 87.31\n",
      "----------------------------------------------------------------\n"
     ]
    }
   ],
   "source": [
    "resnet18 = ResNet(3, ResBlock, [2, 2, 2, 2], useBottleneck=False, outputs=2) \n",
    "resnet18.to(torch.device(\"cuda:0\" if torch.cuda.is_available() else \"cpu\"))\n",
    "summary(resnet18, (3, 224, 224))"
   ]
  },
  {
   "cell_type": "markdown",
   "metadata": {},
   "source": [
    "# Training the ResNet model"
   ]
  },
  {
   "cell_type": "code",
   "execution_count": 42,
   "metadata": {},
   "outputs": [],
   "source": [
    "# loss_fn = nn.CrossEntropyLoss()\n",
    "# optimizer = torch.optim.SGD(resnet18.parameters(), lr=2e-5, momentum=0.9)\n",
    "\n",
    "# loss_fn = nn.CrossEntropyLoss()\n",
    "# optimizer = torch.optim.Adam(resnet18.parameters(), lr=2e-5)\n",
    "\n",
    "loss_fn = nn.CrossEntropyLoss()\n",
    "optimizer = torch.optim.Adam(resnet18.parameters(), lr=1e-4)\n",
    "\n",
    "# loss_fn = nn.CrossEntropyLoss()\n",
    "# optimizer = torch.optim.RMSprop(resnet18.parameters(), lr=2e-5)"
   ]
  },
  {
   "cell_type": "code",
   "execution_count": 43,
   "metadata": {},
   "outputs": [],
   "source": [
    "def train(dataloader, resnet18, loss_fn, optimizer):\n",
    "    size = len(dataloader.dataset)\n",
    "    resnet18.train()\n",
    "    for batch, (X, y) in enumerate(dataloader):\n",
    "        X, y = X.to(device), y.to(device)\n",
    "\n",
    "        # Compute prediction error\n",
    "        pred = resnet18(X)\n",
    "        loss = loss_fn(pred, y)\n",
    "\n",
    "        # Backpropagation\n",
    "        optimizer.zero_grad()\n",
    "        loss.backward()\n",
    "        optimizer.step()\n",
    "\n",
    "        if batch % 100 == 0:\n",
    "            loss, current = loss.item(), batch * len(X)\n",
    "            print(f\"loss: {loss:>7f}  [{current:>5d}/{size:>5d}]\")"
   ]
  },
  {
   "cell_type": "code",
   "execution_count": 44,
   "metadata": {},
   "outputs": [],
   "source": [
    "def test(dataloader, resnet18, loss_fn):\n",
    "    size = len(dataloader.dataset)\n",
    "    num_batches = len(dataloader)\n",
    "    resnet18.eval()\n",
    "    test_loss, correct = 0, 0\n",
    "    with torch.no_grad():\n",
    "        for X, y in dataloader:\n",
    "            X, y = X.to(device), y.to(device)\n",
    "            pred = resnet18(X)\n",
    "            test_loss += loss_fn(pred, y).item()\n",
    "            correct += (pred.argmax(1) == y).type(torch.float).sum().item()\n",
    "    test_loss /= num_batches\n",
    "    correct /= size\n",
    "    print(f\"Test Error: \\n Accuracy: {(100*correct):>0.1f}%, Avg loss: {test_loss:>8f} \\n\")"
   ]
  },
  {
   "cell_type": "code",
   "execution_count": 45,
   "metadata": {},
   "outputs": [],
   "source": [
    "device = \"cuda\" if torch.cuda.is_available() else \"cpu\""
   ]
  },
  {
   "cell_type": "code",
   "execution_count": 46,
   "metadata": {
    "scrolled": true
   },
   "outputs": [
    {
     "name": "stdout",
     "output_type": "stream",
     "text": [
      "Epoch 1\n",
      "-------------------------------\n",
      "loss: 1.673778  [    0/12376]\n",
      "loss: 0.000097  [ 3200/12376]\n",
      "loss: 0.000046  [ 6400/12376]\n",
      "loss: 0.000368  [ 9600/12376]\n",
      "Test Error: \n",
      " Accuracy: 50.0%, Avg loss: 1.757022 \n",
      "\n",
      "Epoch 2\n",
      "-------------------------------\n",
      "loss: 4.263470  [    0/12376]\n",
      "loss: 0.000847  [ 3200/12376]\n",
      "loss: 0.000323  [ 6400/12376]\n",
      "loss: 0.000366  [ 9600/12376]\n",
      "Test Error: \n",
      " Accuracy: 50.0%, Avg loss: 1.783515 \n",
      "\n",
      "Epoch 3\n",
      "-------------------------------\n",
      "loss: 3.697777  [    0/12376]\n",
      "loss: 0.007846  [ 3200/12376]\n",
      "loss: 0.005739  [ 6400/12376]\n",
      "loss: 0.002976  [ 9600/12376]\n",
      "Test Error: \n",
      " Accuracy: 50.0%, Avg loss: 1.661655 \n",
      "\n",
      "Epoch 4\n",
      "-------------------------------\n",
      "loss: 2.463339  [    0/12376]\n",
      "loss: 0.022523  [ 3200/12376]\n",
      "loss: 0.006960  [ 6400/12376]\n",
      "loss: 0.006666  [ 9600/12376]\n",
      "Test Error: \n",
      " Accuracy: 50.0%, Avg loss: 1.314127 \n",
      "\n",
      "Epoch 5\n",
      "-------------------------------\n",
      "loss: 2.649453  [    0/12376]\n",
      "loss: 0.021482  [ 3200/12376]\n",
      "loss: 0.006207  [ 6400/12376]\n",
      "loss: 0.005211  [ 9600/12376]\n",
      "Test Error: \n",
      " Accuracy: 50.0%, Avg loss: 1.375019 \n",
      "\n",
      "Done!\n"
     ]
    }
   ],
   "source": [
    "epochs = 5\n",
    "for t in range(epochs):\n",
    "    print(f\"Epoch {t+1}\\n-------------------------------\")\n",
    "    train(train_dataloader, resnet18, loss_fn, optimizer)\n",
    "    test(test_dataloader, resnet18, loss_fn)\n",
    "print(\"Done!\")"
   ]
  },
  {
   "cell_type": "code",
   "execution_count": 52,
   "metadata": {
    "scrolled": true
   },
   "outputs": [
    {
     "name": "stdout",
     "output_type": "stream",
     "text": [
      "Saved PyTorch Model State to Outputs/model_resnet18_Adam1e-4.pth\n"
     ]
    }
   ],
   "source": [
    "torch.save(resnet18.state_dict(), \"/home/jovyan/aa_t6-adl-finalproj/Outputs/model_resnet18_Adam1e-4.pth\")\n",
    "print(\"Saved PyTorch Model State to Outputs/model_resnet18_Adam1e-4.pth\")"
   ]
  },
  {
   "attachments": {},
   "cell_type": "markdown",
   "id": "40d35596",
   "metadata": {},
   "source": [
    "## Loading model"
   ]
  },
  {
   "cell_type": "code",
   "execution_count": null,
   "id": "7c5e759f",
   "metadata": {},
   "outputs": [],
   "source": [
    "model = resnet18()\n",
    "model.load_state_dict(torch.load(\"filepath/model_resnet18v2_Adam2e-5.pth\"))\n",
    "model.to(device)"
   ]
  },
  {
   "cell_type": "markdown",
   "metadata": {},
   "source": [
    "## Confusion Matrix"
   ]
  },
  {
   "cell_type": "code",
   "execution_count": null,
   "metadata": {},
   "outputs": [],
   "source": [
    "from sklearn.metrics import confusion_matrix, precision_score, recall_score, f1_score\n",
    "\n",
    "def evaluate(model, test_dataloader):\n",
    "    model.eval()\n",
    "    true_labels = []\n",
    "    predictions = []\n",
    "    with torch.no_grad():\n",
    "        for images, labels in test_dataloader:\n",
    "            images = images.to(device)\n",
    "            labels = labels.to(device)\n",
    "            outputs = model(images)\n",
    "            _, preds = torch.max(outputs, 1)\n",
    "            true_labels.extend(labels.cpu().numpy())\n",
    "            predictions.extend(preds.cpu().numpy())\n",
    "    cm = confusion_matrix(true_labels, predictions)\n",
    "    precision = precision_score(true_labels, predictions)\n",
    "    recall = recall_score(true_labels, predictions)\n",
    "    f1 = f1_score(true_labels, predictions)\n",
    "    print(\"true_labels\", true_labels, '\\n')\n",
    "    print(\"predictions\", predictions, '\\n')\n",
    "    return cm, precision, recall, f1\n",
    "\n",
    "cm, precision, recall, f1 = evaluate(resnet18, test_dataloader)\n",
    "print('Confusion Matrix: \\n', cm)\n",
    "print('Precision:', precision)\n",
    "print('Recall:', recall)\n",
    "print('F1 Score:', f1)"
   ]
  }
 ],
 "metadata": {
  "kernelspec": {
   "display_name": "Python 3",
   "language": "python",
   "name": "python3"
  },
  "language_info": {
   "codemirror_mode": {
    "name": "ipython",
    "version": 3
   },
   "file_extension": ".py",
   "mimetype": "text/x-python",
   "name": "python",
   "nbconvert_exporter": "python",
   "pygments_lexer": "ipython3",
   "version": "3.6.10"
  },
  "toc": {
   "base_numbering": 1,
   "nav_menu": {},
   "number_sections": true,
   "sideBar": true,
   "skip_h1_title": false,
   "title_cell": "Table of Contents",
   "title_sidebar": "Contents",
   "toc_cell": false,
   "toc_position": {},
   "toc_section_display": true,
   "toc_window_display": false
  },
  "vscode": {
   "interpreter": {
    "hash": "15587d10115f62644f5173f02f872b68f2ff997d65d238218ed66f873184aa97"
   }
  }
 },
 "nbformat": 4,
 "nbformat_minor": 5
}
